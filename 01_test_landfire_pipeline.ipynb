{
 "cells": [
  {
   "cell_type": "code",
   "execution_count": 9,
   "id": "579e89df",
   "metadata": {},
   "outputs": [
    {
     "ename": "ImportError",
     "evalue": "cannot import name 'LoadedLayer' from 'src.core.loaded_layer' (/Users/alvarogalvan/Projects/Wildfire-Neural-Cellular-Automata/src/core/loaded_layer.py)",
     "output_type": "error",
     "traceback": [
      "\u001b[31m---------------------------------------------------------------------------\u001b[39m",
      "\u001b[31mImportError\u001b[39m                               Traceback (most recent call last)",
      "\u001b[36mCell\u001b[39m\u001b[36m \u001b[39m\u001b[32mIn[9]\u001b[39m\u001b[32m, line 6\u001b[39m\n\u001b[32m      3\u001b[39m \u001b[38;5;28;01mfrom\u001b[39;00m\u001b[38;5;250m \u001b[39m\u001b[34;01mpathlib\u001b[39;00m\u001b[38;5;250m \u001b[39m\u001b[38;5;28;01mimport\u001b[39;00m Path\n\u001b[32m      5\u001b[39m \u001b[38;5;28;01mfrom\u001b[39;00m\u001b[38;5;250m \u001b[39m\u001b[34;01msrc\u001b[39;00m\u001b[34;01m.\u001b[39;00m\u001b[34;01mcore\u001b[39;00m\u001b[34;01m.\u001b[39;00m\u001b[34;01mlayers\u001b[39;00m\u001b[34;01m.\u001b[39;00m\u001b[34;01mlandfire\u001b[39;00m\u001b[38;5;250m \u001b[39m\u001b[38;5;28;01mimport\u001b[39;00m LandfireLayer\n\u001b[32m----> \u001b[39m\u001b[32m6\u001b[39m \u001b[38;5;28;01mfrom\u001b[39;00m\u001b[38;5;250m \u001b[39m\u001b[34;01msrc\u001b[39;00m\u001b[34;01m.\u001b[39;00m\u001b[34;01mcore\u001b[39;00m\u001b[34;01m.\u001b[39;00m\u001b[34;01mloaded_layer\u001b[39;00m\u001b[38;5;250m \u001b[39m\u001b[38;5;28;01mimport\u001b[39;00m LoadedLayer\n\u001b[32m      7\u001b[39m \u001b[38;5;28;01mfrom\u001b[39;00m\u001b[38;5;250m \u001b[39m\u001b[34;01msrc\u001b[39;00m\u001b[34;01m.\u001b[39;00m\u001b[34;01mcore\u001b[39;00m\u001b[34;01m.\u001b[39;00m\u001b[34;01mgrid\u001b[39;00m\u001b[38;5;250m \u001b[39m\u001b[38;5;28;01mimport\u001b[39;00m Grid\n\u001b[32m      8\u001b[39m \u001b[38;5;28;01mfrom\u001b[39;00m\u001b[38;5;250m \u001b[39m\u001b[34;01msrc\u001b[39;00m\u001b[34;01m.\u001b[39;00m\u001b[34;01mconfig\u001b[39;00m\u001b[38;5;250m \u001b[39m\u001b[38;5;28;01mimport\u001b[39;00m SAMPLE_001_BOUNDS_LATLON, LANDFIRE_VARIABLES, CHANNEL_ORDER\n",
      "\u001b[31mImportError\u001b[39m: cannot import name 'LoadedLayer' from 'src.core.loaded_layer' (/Users/alvarogalvan/Projects/Wildfire-Neural-Cellular-Automata/src/core/loaded_layer.py)"
     ]
    }
   ],
   "source": [
    "# Cell 1: Imports\n",
    "import numpy as np\n",
    "from pathlib import Path\n",
    "\n",
    "from src.core.layers.landfire import LandfireLayer\n",
    "from src.core.loaded_layer import LoadedLayer\n",
    "from src.core.grid import Grid\n",
    "from src.config import SAMPLE_001_BOUNDS_LATLON, LANDFIRE_VARIABLES, CHANNEL_ORDER"
   ]
  },
  {
   "cell_type": "code",
   "execution_count": 8,
   "id": "0f199d58",
   "metadata": {},
   "outputs": [
    {
     "name": "stdout",
     "output_type": "stream",
     "text": [
      "Project root: /Users/alvarogalvan/Projects/Wildfire-Neural-Cellular-Automata\n"
     ]
    }
   ],
   "source": [
    "# Cell 0: Setup Python path\n",
    "import sys\n",
    "from pathlib import Path\n",
    "\n",
    "# Add project root to Python path\n",
    "project_root = Path.cwd().parent if 'notebooks' in str(Path.cwd()) else Path.cwd()\n",
    "if str(project_root) not in sys.path:\n",
    "    sys.path.insert(0, str(project_root))\n",
    "\n",
    "print(f\"Project root: {project_root}\")"
   ]
  },
  {
   "cell_type": "code",
   "execution_count": null,
   "id": "2ee5e32f",
   "metadata": {},
   "outputs": [],
   "source": [
    "# Cell 2: Setup paths\n",
    "data_dir = Path(\"data/raw/sample_001/landfire\")\n",
    "\n",
    "# Check if data exists\n",
    "if not data_dir.exists():\n",
    "    print(f\"Error: Data directory not found at {data_dir}\")\n",
    "else:\n",
    "    print(f\"Data directory found: {data_dir}\")\n",
    "    print(f\"Files: {list(data_dir.glob('*.tif'))}\")"
   ]
  },
  {
   "cell_type": "code",
   "execution_count": null,
   "id": "2d5c8b04",
   "metadata": {},
   "outputs": [],
   "source": [
    "# Cell 3: Load a single Landfire layer (CBD as example)\n",
    "print(\"Loading CBD (Canopy Bulk Density)...\")\n",
    "cbd_path = data_dir / LANDFIRE_VARIABLES['cbd']\n",
    "cbd_layer = LandfireLayer(str(cbd_path), 'cbd')\n",
    "\n",
    "print(f\"Layer: {cbd_layer}\")\n",
    "print(f\"Layer type: {cbd_layer.get_layer_type()}\")"
   ]
  },
  {
   "cell_type": "code",
   "execution_count": null,
   "id": "07b67af9",
   "metadata": {},
   "outputs": [],
   "source": [
    "# Cell 4: Convert to LoadedLayer\n",
    "cbd_loaded = cbd_layer.to_loaded_layer()\n",
    "print(f\"LoadedLayer: {cbd_loaded}\")\n",
    "print(f\"Shape: {cbd_loaded.shape}\")\n",
    "print(f\"CRS: {cbd_loaded.crs}\")\n",
    "print(f\"Bounds: {cbd_loaded.bounds}\")"
   ]
  },
  {
   "cell_type": "code",
   "execution_count": null,
   "id": "bfc5c953",
   "metadata": {},
   "outputs": [],
   "source": [
    "# Cell 5: Get statistics\n",
    "stats = cbd_loaded.get_stats()\n",
    "print(\"\\nCBD Statistics:\")\n",
    "for key, value in stats.items():\n",
    "    print(f\"  {key}: {value}\")"
   ]
  },
  {
   "cell_type": "code",
   "execution_count": null,
   "id": "d474ca40",
   "metadata": {},
   "outputs": [],
   "source": [
    "# Cell 6: Quick visualization of raw CBD data\n",
    "plt.figure(figsize=(10, 8))\n",
    "plt.imshow(cbd_loaded.data, cmap='YlGn', interpolation='nearest')\n",
    "plt.colorbar(label='kg/m³')\n",
    "plt.title('CBD (Canopy Bulk Density) - Raw Data')\n",
    "plt.axis('off')\n",
    "plt.tight_layout()\n",
    "plt.show()"
   ]
  },
  {
   "cell_type": "code",
   "execution_count": null,
   "id": "390f1a0c",
   "metadata": {},
   "outputs": [],
   "source": [
    "# Cell 7: Create Grid\n",
    "print(\"\\nCreating Grid...\")\n",
    "# Note: We need to get bounds in the correct CRS\n",
    "# For now, let's use the bounds from the first loaded layer\n",
    "grid = Grid(\n",
    "    bounds=cbd_loaded.bounds,\n",
    "    resolution=30,\n",
    "    crs=str(cbd_loaded.crs)\n",
    ")\n",
    "\n",
    "print(f\"Grid: {grid}\")\n",
    "print(f\"Grid shape: {grid.shape}\")\n"
   ]
  },
  {
   "cell_type": "code",
   "execution_count": null,
   "id": "c5f48f9b",
   "metadata": {},
   "outputs": [],
   "source": [
    "# Cell 8: Add CBD to grid\n",
    "print(\"\\nAdding CBD to grid...\")\n",
    "grid.add_layer(cbd_loaded, 'cbd')\n",
    "grid.summary()"
   ]
  },
  {
   "cell_type": "code",
   "execution_count": null,
   "id": "8479b61d",
   "metadata": {},
   "outputs": [],
   "source": [
    "# Cell 9: Load and add all Landfire continuous variables\n",
    "print(\"\\nLoading all continuous Landfire variables...\")\n",
    "continuous_vars = ['cbd', 'cbh', 'cc', 'ch']\n",
    "\n",
    "for var_name in continuous_vars:\n",
    "    if var_name == 'cbd':\n",
    "        continue  # Already loaded\n",
    "    \n",
    "    print(f\"Loading {var_name}...\")\n",
    "    file_path = data_dir / LANDFIRE_VARIABLES[var_name]\n",
    "    layer = LandfireLayer(str(file_path), var_name)\n",
    "    loaded = layer.to_loaded_layer()\n",
    "    grid.add_layer(loaded, var_name)\n",
    "\n",
    "grid.summary()"
   ]
  },
  {
   "cell_type": "code",
   "execution_count": null,
   "id": "aac933f0",
   "metadata": {},
   "outputs": [],
   "source": [
    "# Cell 10: Load and add categorical variables\n",
    "print(\"\\nLoading categorical Landfire variables...\")\n",
    "categorical_vars = ['fbfm40', 'dist']\n",
    "\n",
    "for var_name in categorical_vars:\n",
    "    print(f\"Loading {var_name}...\")\n",
    "    file_path = data_dir / LANDFIRE_VARIABLES[var_name]\n",
    "    layer = LandfireLayer(str(file_path), var_name)\n",
    "    loaded = layer.to_loaded_layer()\n",
    "    \n",
    "    # Show unique codes before mapping\n",
    "    unique_codes = loaded.get_unique_values()\n",
    "    print(f\"  {var_name} unique codes: {len(unique_codes)} values\")\n",
    "    print(f\"  Sample codes: {unique_codes[:10]}\")\n",
    "    \n",
    "    grid.add_layer(loaded, var_name)\n",
    "\n",
    "grid.summary()"
   ]
  },
  {
   "cell_type": "code",
   "execution_count": null,
   "id": "2958087e",
   "metadata": {},
   "outputs": [],
   "source": [
    "# Cell 11: Inspect categorical mappings\n",
    "print(\"\\nCategorical Mappings:\")\n",
    "for channel_name, mapping in grid.categorical_mappings.items():\n",
    "    print(f\"\\n{channel_name}:\")\n",
    "    print(f\"  Number of categories: {len(mapping)}\")\n",
    "    print(f\"  Mapping (code -> index):\")\n",
    "    for code, idx in sorted(mapping.items())[:10]:\n",
    "        print(f\"    {code} -> {idx}\")\n",
    "    if len(mapping) > 10:\n",
    "        print(f\"    ... ({len(mapping) - 10} more)\")"
   ]
  },
  {
   "cell_type": "code",
   "execution_count": null,
   "id": "1e00f376",
   "metadata": {},
   "outputs": [],
   "source": [
    "# Cell 12: Visualize all loaded channels\n",
    "fig, axes = plt.subplots(2, 3, figsize=(15, 10))\n",
    "axes = axes.flatten()\n",
    "\n",
    "loaded_vars = ['cbd', 'cbh', 'cc', 'ch', 'fbfm40', 'dist']\n",
    "\n",
    "for idx, var_name in enumerate(loaded_vars):\n",
    "    ax = axes[idx]\n",
    "    data = grid.get_channel(var_name)\n",
    "    \n",
    "    metadata = grid.channel_metadata[var_name]\n",
    "    is_categorical = metadata['type'] == 'categorical'\n",
    "    \n",
    "    if is_categorical:\n",
    "        im = ax.imshow(data, cmap='tab20', interpolation='nearest')\n",
    "        title = f\"{var_name} (categorical)\"\n",
    "    else:\n",
    "        im = ax.imshow(data, cmap='viridis', interpolation='nearest')\n",
    "        title = f\"{var_name} ({metadata['units']})\"\n",
    "    \n",
    "    ax.set_title(title)\n",
    "    ax.axis('off')\n",
    "    plt.colorbar(im, ax=ax, fraction=0.046, pad=0.04)\n",
    "\n",
    "plt.tight_layout()\n",
    "plt.show()"
   ]
  },
  {
   "cell_type": "code",
   "execution_count": null,
   "id": "9824d41d",
   "metadata": {},
   "outputs": [],
   "source": [
    "# Cell 13: Query values at a specific location\n",
    "print(\"\\nQuerying values at a specific location...\")\n",
    "# Get center point of the grid\n",
    "minx, miny, maxx, maxy = grid.bounds\n",
    "center_x = (minx + maxx) / 2\n",
    "center_y = (miny + maxy) / 2\n",
    "\n",
    "values = grid.get_values_at(center_x, center_y)\n",
    "print(f\"Values at ({center_x:.2f}, {center_y:.2f}):\")\n",
    "for channel, value in values.items():\n",
    "    if channel in grid.loaded_channels:\n",
    "        print(f\"  {channel}: {value:.2f}\")"
   ]
  },
  {
   "cell_type": "code",
   "execution_count": null,
   "id": "cf73c13c",
   "metadata": {},
   "outputs": [],
   "source": [
    "# Cell 14: Save grid\n",
    "output_path = \"data/processed/sample_001_landfire.npz\"\n",
    "grid.save(output_path)\n",
    "print(f\"\\nGrid saved to {output_path}\")"
   ]
  },
  {
   "cell_type": "code",
   "execution_count": null,
   "id": "00aaf5a3",
   "metadata": {},
   "outputs": [],
   "source": [
    "# Cell 15: Test loading\n",
    "print(\"\\nTesting load...\")\n",
    "loaded_grid = Grid.load(output_path)\n",
    "print(f\"Loaded grid: {loaded_grid}\")\n",
    "loaded_grid.summary()"
   ]
  },
  {
   "cell_type": "code",
   "execution_count": null,
   "id": "31f22c52",
   "metadata": {},
   "outputs": [],
   "source": [
    "# Cell 16: Compare original and loaded\n",
    "print(\"\\nComparing original and loaded grids...\")\n",
    "print(f\"Shapes match: {np.array_equal(grid.shape, loaded_grid.shape)}\")\n",
    "print(f\"Data match: {np.allclose(grid.data, loaded_grid.data, equal_nan=True)}\")\n",
    "print(f\"Loaded channels match: {grid.loaded_channels == loaded_grid.loaded_channels}\")"
   ]
  }
 ],
 "metadata": {
  "kernelspec": {
   "display_name": ".venv (3.11.8)",
   "language": "python",
   "name": "python3"
  },
  "language_info": {
   "codemirror_mode": {
    "name": "ipython",
    "version": 3
   },
   "file_extension": ".py",
   "mimetype": "text/x-python",
   "name": "python",
   "nbconvert_exporter": "python",
   "pygments_lexer": "ipython3",
   "version": "3.11.8"
  }
 },
 "nbformat": 4,
 "nbformat_minor": 5
}
